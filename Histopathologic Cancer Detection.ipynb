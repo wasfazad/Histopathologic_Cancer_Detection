{
 "cells": [
  {
   "cell_type": "markdown",
   "id": "1af8558a",
   "metadata": {},
   "source": [
    "## Histopathologic Cancer Detection"
   ]
  },
  {
   "cell_type": "markdown",
   "id": "953c119c",
   "metadata": {},
   "source": [
    "### Challenge Problem\n",
    "\n",
    "This challenge involves identifying metastatic cancer in small image patches from digital pathology scans, a binary classification task where images are labeled as cancerous (1) or non-cancerous (0). The key challenges include handling .tif images, managing tissue appearance variability, addressing class imbalance, and ensuring proper feature extraction for accurate classification."
   ]
  },
  {
   "cell_type": "code",
   "execution_count": 2,
   "id": "8c8cc59d",
   "metadata": {},
   "outputs": [],
   "source": [
    "from PIL import Image\n",
    "import tifffile as tiff\n",
    "import numpy as np\n",
    "import pandas as pd\n",
    "import tifffile as tiff"
   ]
  },
  {
   "cell_type": "code",
   "execution_count": 3,
   "id": "3e080d2e",
   "metadata": {},
   "outputs": [],
   "source": [
    "import tensorflow as tf\n",
    "from tensorflow.keras.preprocessing.image import ImageDataGenerator"
   ]
  },
  {
   "cell_type": "code",
   "execution_count": 70,
   "id": "2455912a",
   "metadata": {},
   "outputs": [],
   "source": [
    "# Load in the training labels\n",
    "labels_df = pd.read_csv('train_labels.csv')"
   ]
  },
  {
   "cell_type": "code",
   "execution_count": 71,
   "id": "2b7cc416",
   "metadata": {},
   "outputs": [
    {
     "data": {
      "text/html": [
       "<div>\n",
       "<style scoped>\n",
       "    .dataframe tbody tr th:only-of-type {\n",
       "        vertical-align: middle;\n",
       "    }\n",
       "\n",
       "    .dataframe tbody tr th {\n",
       "        vertical-align: top;\n",
       "    }\n",
       "\n",
       "    .dataframe thead th {\n",
       "        text-align: right;\n",
       "    }\n",
       "</style>\n",
       "<table border=\"1\" class=\"dataframe\">\n",
       "  <thead>\n",
       "    <tr style=\"text-align: right;\">\n",
       "      <th></th>\n",
       "      <th>id</th>\n",
       "      <th>label</th>\n",
       "    </tr>\n",
       "  </thead>\n",
       "  <tbody>\n",
       "    <tr>\n",
       "      <th>0</th>\n",
       "      <td>f38a6374c348f90b587e046aac6079959adf3835</td>\n",
       "      <td>0</td>\n",
       "    </tr>\n",
       "    <tr>\n",
       "      <th>1</th>\n",
       "      <td>c18f2d887b7ae4f6742ee445113fa1aef383ed77</td>\n",
       "      <td>1</td>\n",
       "    </tr>\n",
       "    <tr>\n",
       "      <th>2</th>\n",
       "      <td>755db6279dae599ebb4d39a9123cce439965282d</td>\n",
       "      <td>0</td>\n",
       "    </tr>\n",
       "    <tr>\n",
       "      <th>3</th>\n",
       "      <td>bc3f0c64fb968ff4a8bd33af6971ecae77c75e08</td>\n",
       "      <td>0</td>\n",
       "    </tr>\n",
       "    <tr>\n",
       "      <th>4</th>\n",
       "      <td>068aba587a4950175d04c680d38943fd488d6a9d</td>\n",
       "      <td>0</td>\n",
       "    </tr>\n",
       "  </tbody>\n",
       "</table>\n",
       "</div>"
      ],
      "text/plain": [
       "                                         id  label\n",
       "0  f38a6374c348f90b587e046aac6079959adf3835      0\n",
       "1  c18f2d887b7ae4f6742ee445113fa1aef383ed77      1\n",
       "2  755db6279dae599ebb4d39a9123cce439965282d      0\n",
       "3  bc3f0c64fb968ff4a8bd33af6971ecae77c75e08      0\n",
       "4  068aba587a4950175d04c680d38943fd488d6a9d      0"
      ]
     },
     "execution_count": 71,
     "metadata": {},
     "output_type": "execute_result"
    }
   ],
   "source": [
    "labels_df.head()"
   ]
  },
  {
   "cell_type": "code",
   "execution_count": 72,
   "id": "1561a4bf",
   "metadata": {},
   "outputs": [
    {
     "data": {
      "text/html": [
       "<div>\n",
       "<style scoped>\n",
       "    .dataframe tbody tr th:only-of-type {\n",
       "        vertical-align: middle;\n",
       "    }\n",
       "\n",
       "    .dataframe tbody tr th {\n",
       "        vertical-align: top;\n",
       "    }\n",
       "\n",
       "    .dataframe thead th {\n",
       "        text-align: right;\n",
       "    }\n",
       "</style>\n",
       "<table border=\"1\" class=\"dataframe\">\n",
       "  <thead>\n",
       "    <tr style=\"text-align: right;\">\n",
       "      <th></th>\n",
       "      <th>label</th>\n",
       "    </tr>\n",
       "  </thead>\n",
       "  <tbody>\n",
       "    <tr>\n",
       "      <th>count</th>\n",
       "      <td>220025.000000</td>\n",
       "    </tr>\n",
       "    <tr>\n",
       "      <th>mean</th>\n",
       "      <td>0.405031</td>\n",
       "    </tr>\n",
       "    <tr>\n",
       "      <th>std</th>\n",
       "      <td>0.490899</td>\n",
       "    </tr>\n",
       "    <tr>\n",
       "      <th>min</th>\n",
       "      <td>0.000000</td>\n",
       "    </tr>\n",
       "    <tr>\n",
       "      <th>25%</th>\n",
       "      <td>0.000000</td>\n",
       "    </tr>\n",
       "    <tr>\n",
       "      <th>50%</th>\n",
       "      <td>0.000000</td>\n",
       "    </tr>\n",
       "    <tr>\n",
       "      <th>75%</th>\n",
       "      <td>1.000000</td>\n",
       "    </tr>\n",
       "    <tr>\n",
       "      <th>max</th>\n",
       "      <td>1.000000</td>\n",
       "    </tr>\n",
       "  </tbody>\n",
       "</table>\n",
       "</div>"
      ],
      "text/plain": [
       "               label\n",
       "count  220025.000000\n",
       "mean        0.405031\n",
       "std         0.490899\n",
       "min         0.000000\n",
       "25%         0.000000\n",
       "50%         0.000000\n",
       "75%         1.000000\n",
       "max         1.000000"
      ]
     },
     "execution_count": 72,
     "metadata": {},
     "output_type": "execute_result"
    }
   ],
   "source": [
    "labels_df.describe()"
   ]
  },
  {
   "cell_type": "code",
   "execution_count": 73,
   "id": "062f8e07",
   "metadata": {},
   "outputs": [
    {
     "name": "stdout",
     "output_type": "stream",
     "text": [
      "<class 'pandas.core.frame.DataFrame'>\n",
      "RangeIndex: 220025 entries, 0 to 220024\n",
      "Data columns (total 2 columns):\n",
      " #   Column  Non-Null Count   Dtype \n",
      "---  ------  --------------   ----- \n",
      " 0   id      220025 non-null  object\n",
      " 1   label   220025 non-null  int64 \n",
      "dtypes: int64(1), object(1)\n",
      "memory usage: 3.4+ MB\n"
     ]
    }
   ],
   "source": [
    "labels_df.info()"
   ]
  },
  {
   "cell_type": "code",
   "execution_count": 74,
   "id": "2f70c694",
   "metadata": {},
   "outputs": [
    {
     "data": {
      "image/png": "[encoded data removed]",
      "text/plain": [
       "<Figure size 640x480 with 1 Axes>"
      ]
     },
     "metadata": {},
     "output_type": "display_data"
    }
   ],
   "source": [
    "# Class distribution\n",
    "import seaborn as sns\n",
    "import matplotlib.pyplot as plt\n",
    "\n",
    "sns.countplot(x='label', data=labels_df)\n",
    "plt.title('Class Distribution')\n",
    "plt.show()"
   ]
  },
  {
   "cell_type": "code",
   "execution_count": 75,
   "id": "f4dd7428",
   "metadata": {},
   "outputs": [
    {
     "name": "stdout",
     "output_type": "stream",
     "text": [
      "0    59.496875\n",
      "1    40.503125\n",
      "Name: label, dtype: float64\n"
     ]
    }
   ],
   "source": [
    "# Percentage of each class\n",
    "class_distribution = labels_df['label'].value_counts(normalize=True) * 100\n",
    "print(class_distribution)"
   ]
  },
  {
   "cell_type": "markdown",
   "id": "44c70ddf",
   "metadata": {},
   "source": [
    "### Desciption of the Data\n",
    "\n",
    "The dataset contains 220,025 unique image samples, each labeled as either 0 or 1, indicating a binary classification task. The class distribution shows that label 0 (the majority class) appears roughly 60% of the time (130,908 instances), while label 1 (the minority class) appears about 40% of the time (89,117 instances). Although the class imbalance is not extreme, it is significant enough to impact model evaluation.\n",
    "\n",
    "While accuracy measures the overall correctness of the model, it can be misleading in the presence of class imbalance. Therefore, it is important to also consider precision and recall. Precision measures the correctness of positive predictions, ensuring a low false positive rate, while recall measures the model's ability to identify all relevant instances, ensuring a low false negative rate."
   ]
  },
  {
   "cell_type": "markdown",
   "id": "42a3848e",
   "metadata": {},
   "source": [
    "### EDA\n",
    "\n",
    "The primary data cleaning task involves preparing the image files for use with the ImageDataGenerator and associated functions in TensorFlow. The only adjustment needed is appending \".tif\" to the end of each label ID to correctly reference the image files during the data loading process. Another importamt mpte os that the dataset does not contain any missing values, so no imputation or removal of missing data is necessary.\n",
    "\n",
    "As mentioned in the description of the data, there is a slight imbalance in the data. Before making any adjustments to the dataset to address class imbalance, we will evaluate the precision and recall of our models. This approach allows us to understand how well the model performs across different classes and whether the imbalance significantly impacts performance. \n",
    "\n",
    "The plan for this analysis is to utilize the ImageDataGenerator from TensorFlow.keras to load and preprocess the images, including rescaling pixel values and applying data augmentation techniques to enhance the training data. We will implement a Convolutional Neural Network (CNN) using TensorFlow.keras, starting with a simple model and iteratively refining it to improve performance."
   ]
  },
  {
   "cell_type": "code",
   "execution_count": null,
   "id": "ba66606d",
   "metadata": {},
   "outputs": [],
   "source": [
    "#add .tif to the end of every label ID\n",
    "labels_df['label'] = labels_df['label'].astype(str)\n",
    "labels_df['id'] = labels_df['id'].apply(lambda x: x + '.tif')"
   ]
  },
  {
   "cell_type": "code",
   "execution_count": 7,
   "id": "e5c5f084",
   "metadata": {},
   "outputs": [],
   "source": [
    "# Define ImageDataGenerator for training and validation\n",
    "datagen = ImageDataGenerator(rescale=1./255, validation_split=0.3)"
   ]
  },
  {
   "cell_type": "code",
   "execution_count": 8,
   "id": "5624936b",
   "metadata": {},
   "outputs": [
    {
     "name": "stdout",
     "output_type": "stream",
     "text": [
      "Found 154018 validated image filenames belonging to 2 classes.\n",
      "Found 66007 validated image filenames belonging to 2 classes.\n"
     ]
    }
   ],
   "source": [
    "# Create training and validation generators\n",
    "train_generator = datagen.flow_from_dataframe(\n",
    "    dataframe=labels_df,\n",
    "    directory='train',\n",
    "    x_col='id',\n",
    "    y_col='label',\n",
    "    target_size=(32, 32),\n",
    "    batch_size=512,\n",
    "    class_mode='binary',\n",
    "    subset='training'\n",
    ")\n",
    "\n",
    "validation_generator = datagen.flow_from_dataframe(\n",
    "    dataframe=labels_df,\n",
    "    directory='train',\n",
    "    x_col='id',\n",
    "    y_col='label',\n",
    "    target_size=(32, 32),\n",
    "    batch_size=512,\n",
    "    class_mode='binary',\n",
    "    subset='validation'\n",
    ")"
   ]
  },
  {
   "cell_type": "code",
   "execution_count": 33,
   "id": "53078996",
   "metadata": {},
   "outputs": [],
   "source": [
    "from tensorflow.keras.models import Sequential\n",
    "from tensorflow.keras.layers import Conv2D, MaxPooling2D, Flatten, Dense, BatchNormalization, GlobalAveragePooling2D\n",
    "from tensorflow.keras.metrics import Precision, Recall"
   ]
  },
  {
   "cell_type": "markdown",
   "id": "6c511a1a",
   "metadata": {},
   "source": [
    "### Begininning Model Architecture\n",
    "\n",
    "The model architecture consists of three convolutional layers with ReLU activation and increasing filter sizes (32, 64, 128), each followed by max-pooling layers to reduce spatial dimensions and computational complexity. These layers have the ability to learn spatial hierarchies of features. The use of ReLU activation introduces non-linearity, allowing the model to capture more complex patterns in the images.\n",
    "\n",
    "After flattening the output from the convolutional layers, the model has a dense layer with 128 neurons and ReLU activation, followed by a single neuron with a sigmoid activation for binary classification. This combination allows the model to effectively combine and classify the features extracted from the images, outputting a probability score indicating the presence or absence of cancer. The chosen architecture effectively balances complexity and efficiency. This makes it suitable for the histopathologic cancer detection task."
   ]
  },
  {
   "cell_type": "code",
   "execution_count": 34,
   "id": "7f67927c",
   "metadata": {},
   "outputs": [],
   "source": [
    "# Define the first model\n",
    "model = Sequential([\n",
    "    Conv2D(32, (3, 3), activation='relu', input_shape=(32, 32, 3)),\n",
    "    MaxPooling2D((2, 2)),\n",
    "    Conv2D(64, (3, 3), activation='relu'),\n",
    "    MaxPooling2D((2, 2)),\n",
    "    Conv2D(128, (3, 3), activation='relu'),\n",
    "    MaxPooling2D((2, 2)),\n",
    "    Flatten(),\n",
    "    Dense(128, activation='relu'),\n",
    "    Dense(1, activation='sigmoid')  # Binary classification\n",
    "])"
   ]
  },
  {
   "cell_type": "code",
   "execution_count": 35,
   "id": "a1cd8bb0",
   "metadata": {},
   "outputs": [],
   "source": [
    "# Compile the first model\n",
    "model.compile(optimizer='adam',\n",
    "              loss='binary_crossentropy',\n",
    "              metrics=['accuracy', Precision(), Recall()])"
   ]
  },
  {
   "cell_type": "code",
   "execution_count": 36,
   "id": "b2974c43",
   "metadata": {},
   "outputs": [
    {
     "name": "stdout",
     "output_type": "stream",
     "text": [
      "Epoch 1/6\n",
      "301/301 [==============================] - 362s 1s/step - loss: 0.4895 - accuracy: 0.7675 - precision: 0.7372 - recall: 0.6624 - val_loss: 0.4596 - val_accuracy: 0.7903 - val_precision: 0.8043 - val_recall: 0.6363\n",
      "Epoch 2/6\n",
      "301/301 [==============================] - 368s 1s/step - loss: 0.4410 - accuracy: 0.7990 - precision: 0.7662 - recall: 0.7255 - val_loss: 0.4170 - val_accuracy: 0.8170 - val_precision: 0.7856 - val_recall: 0.7532\n",
      "Epoch 3/6\n",
      "301/301 [==============================] - 347s 1s/step - loss: 0.4081 - accuracy: 0.8172 - precision: 0.7977 - recall: 0.7355 - val_loss: 0.3967 - val_accuracy: 0.8255 - val_precision: 0.7675 - val_recall: 0.8157\n",
      "Epoch 4/6\n",
      "301/301 [==============================] - 400s 1s/step - loss: 0.3910 - accuracy: 0.8256 - precision: 0.8053 - recall: 0.7513 - val_loss: 0.3971 - val_accuracy: 0.8224 - val_precision: 0.7490 - val_recall: 0.8435\n",
      "Epoch 5/6\n",
      "301/301 [==============================] - 389s 1s/step - loss: 0.3743 - accuracy: 0.8346 - precision: 0.8139 - recall: 0.7674 - val_loss: 0.3664 - val_accuracy: 0.8417 - val_precision: 0.8143 - val_recall: 0.7885\n",
      "Epoch 6/6\n",
      "301/301 [==============================] - 359s 1s/step - loss: 0.3647 - accuracy: 0.8394 - precision: 0.8174 - recall: 0.7773 - val_loss: 0.3526 - val_accuracy: 0.8461 - val_precision: 0.8316 - val_recall: 0.7768\n"
     ]
    }
   ],
   "source": [
    "# Train the first model using the generators\n",
    "history = model.fit(\n",
    "    train_generator,\n",
    "    epochs=6,\n",
    "    validation_data=validation_generator\n",
    ")"
   ]
  },
  {
   "cell_type": "code",
   "execution_count": 37,
   "id": "7a13b102",
   "metadata": {},
   "outputs": [
    {
     "name": "stdout",
     "output_type": "stream",
     "text": [
      "129/129 [==============================] - 95s 736ms/step - loss: 0.3526 - accuracy: 0.8461 - precision: 0.8316 - recall: 0.7768\n",
      "Validation Accuracy: 0.85\n",
      "Validation Precision: 0.83\n",
      "Validation Recall: 0.78\n"
     ]
    }
   ],
   "source": [
    "# Calculate the validation loss and accuracy for the first model\n",
    "val_loss, val_acc, val_precision, val_recall = model.evaluate(validation_generator)\n",
    "print(f'Validation Accuracy: {val_acc:.2f}')\n",
    "print(f'Validation Precision: {val_precision:.2f}')\n",
    "print(f'Validation Recall: {val_recall:.2f}')"
   ]
  },
  {
   "cell_type": "markdown",
   "id": "0aa560ef",
   "metadata": {},
   "source": [
    "### Second Model Iteration\n",
    "\n",
    "In this second iteration of the model, we will incorporate batch normalization to protentially improve the accuracy, precision, and recall of the model. Batch normalization helps the model converge faster and more reliably to an optimal solution. This will ideally result in better generalization on unseen data, which could potenially enhance the model's ability to accurately classify images, leading to higher accuracy, precision, and recall."
   ]
  },
  {
   "cell_type": "code",
   "execution_count": 38,
   "id": "ae01fb1b",
   "metadata": {},
   "outputs": [],
   "source": [
    "# Define the model\n",
    "model_2 = Sequential([\n",
    "    Conv2D(32, (3, 3), activation='relu', input_shape=(32, 32, 3)),\n",
    "    BatchNormalization(),\n",
    "    MaxPooling2D((2, 2)),\n",
    "    Conv2D(64, (3, 3), activation='relu'),\n",
    "    BatchNormalization(),\n",
    "    MaxPooling2D((2, 2)),\n",
    "    Conv2D(128, (3, 3), activation='relu'),\n",
    "    BatchNormalization(),\n",
    "    MaxPooling2D((2, 2)),\n",
    "    Flatten(),\n",
    "    Dense(128, activation='relu'),\n",
    "    Dense(1, activation='sigmoid')  # Binary classification\n",
    "])"
   ]
  },
  {
   "cell_type": "code",
   "execution_count": 39,
   "id": "4b59882a",
   "metadata": {},
   "outputs": [],
   "source": [
    "# Compile the model\n",
    "model_2.compile(optimizer='adam',\n",
    "              loss='binary_crossentropy',\n",
    "              metrics=['accuracy', Precision(), Recall()])"
   ]
  },
  {
   "cell_type": "code",
   "execution_count": 40,
   "id": "2f275388",
   "metadata": {},
   "outputs": [
    {
     "name": "stdout",
     "output_type": "stream",
     "text": [
      "Epoch 1/6\n",
      "301/301 [==============================] - 553s 2s/step - loss: 0.4106 - accuracy: 0.8163 - precision_1: 0.7937 - recall_1: 0.7388 - val_loss: 1.0676 - val_accuracy: 0.5832 - val_precision_1: 0.4915 - val_recall_1: 0.8744\n",
      "Epoch 2/6\n",
      "301/301 [==============================] - 355s 1s/step - loss: 0.3429 - accuracy: 0.8506 - precision_1: 0.8321 - recall_1: 0.7911 - val_loss: 0.6553 - val_accuracy: 0.7247 - val_precision_1: 0.6029 - val_recall_1: 0.9355\n",
      "Epoch 3/6\n",
      "301/301 [==============================] - 351s 1s/step - loss: 0.3062 - accuracy: 0.8700 - precision_1: 0.8529 - recall_1: 0.8208 - val_loss: 0.5716 - val_accuracy: 0.8006 - val_precision_1: 0.7007 - val_recall_1: 0.8849\n",
      "Epoch 4/6\n",
      "301/301 [==============================] - 348s 1s/step - loss: 0.2838 - accuracy: 0.8809 - precision_1: 0.8656 - recall_1: 0.8361 - val_loss: 0.6684 - val_accuracy: 0.7424 - val_precision_1: 0.7964 - val_recall_1: 0.4878\n",
      "Epoch 5/6\n",
      "301/301 [==============================] - 350s 1s/step - loss: 0.2651 - accuracy: 0.8890 - precision_1: 0.8744 - recall_1: 0.8479 - val_loss: 0.3386 - val_accuracy: 0.8518 - val_precision_1: 0.7839 - val_recall_1: 0.8747\n",
      "Epoch 6/6\n",
      "301/301 [==============================] - 347s 1s/step - loss: 0.2440 - accuracy: 0.8988 - precision_1: 0.8850 - recall_1: 0.8624 - val_loss: 1.0271 - val_accuracy: 0.6890 - val_precision_1: 0.9328 - val_recall_1: 0.2491\n"
     ]
    }
   ],
   "source": [
    "# Train the model using the generators\n",
    "history_2 = model_2.fit(\n",
    "    train_generator,\n",
    "    epochs=6,\n",
    "    validation_data=validation_generator\n",
    ")"
   ]
  },
  {
   "cell_type": "code",
   "execution_count": 41,
   "id": "4292cde8",
   "metadata": {},
   "outputs": [
    {
     "name": "stdout",
     "output_type": "stream",
     "text": [
      "129/129 [==============================] - 89s 691ms/step - loss: 1.0271 - accuracy: 0.6890 - precision_1: 0.9328 - recall_1: 0.2491\n",
      "Validation Accuracy: 0.69\n",
      "Validation Precision: 0.93\n",
      "Validation Recall: 0.25\n"
     ]
    }
   ],
   "source": [
    "val_loss_2, val_acc_2, val_precision_2, val_recall_2 = model_2.evaluate(validation_generator)\n",
    "print(f'Validation Accuracy: {val_acc_2:.2f}')\n",
    "print(f'Validation Precision: {val_precision_2:.2f}')\n",
    "print(f'Validation Recall: {val_recall_2:.2f}')"
   ]
  },
  {
   "cell_type": "markdown",
   "id": "4968cba7",
   "metadata": {},
   "source": [
    "### Third Model Iteration\n",
    "\n",
    "In this third iteration we will replace the flatten and dense layers with global average pooling to reduce the number of parameters and prevent overfitting. Global average pooling condenses the spatial dimensions of the feature maps into a more compact representation. This change can enhance the model's generalization, hopefullly improving accuracy, precision, and recall. This approach emphasizes the most important features and reduces the potential of overfitting."
   ]
  },
  {
   "cell_type": "code",
   "execution_count": 42,
   "id": "06b3230e",
   "metadata": {},
   "outputs": [],
   "source": [
    "# Define the model\n",
    "model_3 = Sequential([\n",
    "    Conv2D(32, (3, 3), activation='relu', input_shape=(32, 32, 3)),\n",
    "    BatchNormalization(),\n",
    "    MaxPooling2D((2, 2)),\n",
    "    Conv2D(64, (3, 3), activation='relu'),\n",
    "    BatchNormalization(),\n",
    "    MaxPooling2D((2, 2)),\n",
    "    Conv2D(128, (3, 3), activation='relu'),\n",
    "    BatchNormalization(),\n",
    "    MaxPooling2D((2, 2)),\n",
    "    GlobalAveragePooling2D(),  # Replaces Flatten and Dense layers\n",
    "    Dense(1, activation='sigmoid')  # Binary classification\n",
    "])"
   ]
  },
  {
   "cell_type": "code",
   "execution_count": 43,
   "id": "b21cc9c9",
   "metadata": {},
   "outputs": [],
   "source": [
    "# Compile the model\n",
    "model_3.compile(optimizer='adam',\n",
    "              loss='binary_crossentropy',\n",
    "              metrics=['accuracy', Precision(), Recall()])"
   ]
  },
  {
   "cell_type": "code",
   "execution_count": 44,
   "id": "100ef4b9",
   "metadata": {},
   "outputs": [
    {
     "name": "stdout",
     "output_type": "stream",
     "text": [
      "Epoch 1/6\n",
      "301/301 [==============================] - 364s 1s/step - loss: 0.4101 - accuracy: 0.8180 - precision_2: 0.7976 - recall_2: 0.7384 - val_loss: 0.6930 - val_accuracy: 0.6084 - val_precision_2: 0.5093 - val_recall_2: 0.8720\n",
      "Epoch 2/6\n",
      "301/301 [==============================] - 358s 1s/step - loss: 0.3573 - accuracy: 0.8438 - precision_2: 0.8308 - recall_2: 0.7717 - val_loss: 0.6928 - val_accuracy: 0.7448 - val_precision_2: 0.6364 - val_recall_2: 0.8609\n",
      "Epoch 3/6\n",
      "301/301 [==============================] - 362s 1s/step - loss: 0.3217 - accuracy: 0.8624 - precision_2: 0.8511 - recall_2: 0.8007 - val_loss: 0.6376 - val_accuracy: 0.7729 - val_precision_2: 0.6591 - val_recall_2: 0.9081\n",
      "Epoch 4/6\n",
      "301/301 [==============================] - 364s 1s/step - loss: 0.2991 - accuracy: 0.8727 - precision_2: 0.8629 - recall_2: 0.8154 - val_loss: 0.3919 - val_accuracy: 0.8341 - val_precision_2: 0.7532 - val_recall_2: 0.8773\n",
      "Epoch 5/6\n",
      "301/301 [==============================] - 365s 1s/step - loss: 0.2836 - accuracy: 0.8806 - precision_2: 0.8708 - recall_2: 0.8283 - val_loss: 2.3211 - val_accuracy: 0.6612 - val_precision_2: 0.9820 - val_recall_2: 0.1655\n",
      "Epoch 6/6\n",
      "301/301 [==============================] - 362s 1s/step - loss: 0.2690 - accuracy: 0.8880 - precision_2: 0.8792 - recall_2: 0.8388 - val_loss: 0.4951 - val_accuracy: 0.8132 - val_precision_2: 0.8464 - val_recall_2: 0.6576\n"
     ]
    }
   ],
   "source": [
    "# Train the model using the generators\n",
    "history_3 = model_3.fit(\n",
    "    train_generator,\n",
    "    epochs=6,\n",
    "    validation_data=validation_generator\n",
    ")"
   ]
  },
  {
   "cell_type": "code",
   "execution_count": 45,
   "id": "4152b4dd",
   "metadata": {},
   "outputs": [
    {
     "name": "stdout",
     "output_type": "stream",
     "text": [
      "129/129 [==============================] - 94s 732ms/step - loss: 0.4951 - accuracy: 0.8132 - precision_2: 0.8464 - recall_2: 0.6576\n",
      "Validation Accuracy: 0.81\n",
      "Validation Precision: 0.85\n",
      "Validation Recall: 0.66\n"
     ]
    }
   ],
   "source": [
    "val_loss_3, val_acc_3, val_precision_3, val_recall_3 = model_3.evaluate(validation_generator)\n",
    "print(f'Validation Accuracy: {val_acc_3:.2f}')\n",
    "print(f'Validation Precision: {val_precision_3:.2f}')\n",
    "print(f'Validation Recall: {val_recall_3:.2f}')"
   ]
  },
  {
   "cell_type": "markdown",
   "id": "b442882c",
   "metadata": {},
   "source": [
    "### Results and Analysis"
   ]
  },
  {
   "cell_type": "code",
   "execution_count": 46,
   "id": "61fc8245",
   "metadata": {},
   "outputs": [],
   "source": [
    "models = {\n",
    "    \"Model\": [\"Model 1\", \"Model 2\", \"Model 3\"],\n",
    "    \"Precision\": [val_precision, val_precision_2, val_precision_3],\n",
    "    \"Recall\": [val_recall, val_recall_2, val_recall_3],\n",
    "    \"Accuracy\": [val_acc, val_acc_2, val_acc_3]\n",
    "}"
   ]
  },
  {
   "cell_type": "code",
   "execution_count": 47,
   "id": "11400c4f",
   "metadata": {},
   "outputs": [
    {
     "name": "stdout",
     "output_type": "stream",
     "text": [
      "     Model  Precision    Recall  Accuracy\n",
      "0  Model 1   0.831576  0.776754  0.846077\n",
      "1  Model 2   0.932810  0.249092  0.689033\n",
      "2  Model 3   0.846391  0.657565  0.813232\n"
     ]
    }
   ],
   "source": [
    "# Create DataFrame\n",
    "models_df = pd.DataFrame(models)\n",
    "\n",
    "# Display the table\n",
    "print(models_df)"
   ]
  },
  {
   "cell_type": "markdown",
   "id": "b0a9aae3",
   "metadata": {},
   "source": [
    "<b>Why the Baseline Performed Well:</b> The baseline architecture (Model 1) demonstrated a well-balanced performance with precision, recall, and accuracy metrics of 0.831576, 0.776754, and 0.846077, respectively. This suggests that the model effectively identified true positives while maintaining a relatively low rate of false positives, making it suitable for applications where both precision and recall are critical.\n",
    "\n",
    "<b>Improvements with Batch Normalization:</b> Introducing batch normalization (Model 2) significantly increased precision to 0.932810 but led to a marked decrease in recall and accuracy, with values of 0.249092 and 0.689033, respectively. This indicates that while the model was highly confident when predicting positive cases, it failed to identify a substantial number of true positives. The likely cause is overfitting or poor generalization to the validation data.\n",
    "\n",
    "<b>Impact of Global Average Pooling:</b> Incorporating global average pooling in place of flatten and dense layers (Model 3) resulted in a more balanced performance with precision, recall, and accuracy metrics of 0.846391, 0.657565, and 0.813232, respectively. Although the precision and recall were slightly lower compared to Model 1, the reduction in overfitting and enhanced generalization provided a more consistent and reliable performance."
   ]
  },
  {
   "cell_type": "markdown",
   "id": "93af61be",
   "metadata": {},
   "source": [
    "### Conclusion\n",
    "\n",
    "This analysis showed that different architectures and techniques have varying impacts on model performance. The baseline model (Model 1) had the best balance between precision, recall, and accuracy, making it reliable for medical diagnostics. Model 2, with batch normalization, achieved high precision but very low recall and accuracy, indicating potential overfitting. Model 3, with global average pooling, provided a better trade-off between precision and recall while maintaining reasonable accuracy. These findings highlight the need to balance accuracy, precision, and recall based on application requirements. Further tuning, such as optimizing learning rates, experimenting with different optimizers, and employing more sophisticated augmentation techniques, could enhance performance. However, these efforts would require significant time and computational power."
   ]
  },
  {
   "cell_type": "markdown",
   "id": "b9ed8144",
   "metadata": {},
   "source": [
    "### Procudeure to get the Test Labels"
   ]
  },
  {
   "cell_type": "code",
   "execution_count": 59,
   "id": "8179fd28",
   "metadata": {},
   "outputs": [],
   "source": [
    "test_filenames = [file for file in os.listdir('test') if file.endswith('.tif')]\n",
    "test_df = pd.DataFrame({'filename': test_filenames})"
   ]
  },
  {
   "cell_type": "code",
   "execution_count": 61,
   "id": "7db5998e",
   "metadata": {},
   "outputs": [
    {
     "data": {
      "text/html": [
       "<div>\n",
       "<style scoped>\n",
       "    .dataframe tbody tr th:only-of-type {\n",
       "        vertical-align: middle;\n",
       "    }\n",
       "\n",
       "    .dataframe tbody tr th {\n",
       "        vertical-align: top;\n",
       "    }\n",
       "\n",
       "    .dataframe thead th {\n",
       "        text-align: right;\n",
       "    }\n",
       "</style>\n",
       "<table border=\"1\" class=\"dataframe\">\n",
       "  <thead>\n",
       "    <tr style=\"text-align: right;\">\n",
       "      <th></th>\n",
       "      <th>filename</th>\n",
       "    </tr>\n",
       "  </thead>\n",
       "  <tbody>\n",
       "    <tr>\n",
       "      <th>0</th>\n",
       "      <td>fd0a060ef9c30c9a83f6b4bfb568db74b099154d.tif</td>\n",
       "    </tr>\n",
       "    <tr>\n",
       "      <th>1</th>\n",
       "      <td>1f9ee06f06d329eb7902a2e03ab3835dd0484581.tif</td>\n",
       "    </tr>\n",
       "    <tr>\n",
       "      <th>2</th>\n",
       "      <td>19709bec800f372d0b1d085da6933dd3ef108846.tif</td>\n",
       "    </tr>\n",
       "    <tr>\n",
       "      <th>3</th>\n",
       "      <td>7a34fc34523063f13f0617f7518a0330f6187bd3.tif</td>\n",
       "    </tr>\n",
       "    <tr>\n",
       "      <th>4</th>\n",
       "      <td>93be720ca2b95fe2126cf2e1ed752bd759e9b0ed.tif</td>\n",
       "    </tr>\n",
       "  </tbody>\n",
       "</table>\n",
       "</div>"
      ],
      "text/plain": [
       "                                       filename\n",
       "0  fd0a060ef9c30c9a83f6b4bfb568db74b099154d.tif\n",
       "1  1f9ee06f06d329eb7902a2e03ab3835dd0484581.tif\n",
       "2  19709bec800f372d0b1d085da6933dd3ef108846.tif\n",
       "3  7a34fc34523063f13f0617f7518a0330f6187bd3.tif\n",
       "4  93be720ca2b95fe2126cf2e1ed752bd759e9b0ed.tif"
      ]
     },
     "execution_count": 61,
     "metadata": {},
     "output_type": "execute_result"
    }
   ],
   "source": [
    "test_df.head()"
   ]
  },
  {
   "cell_type": "code",
   "execution_count": 62,
   "id": "fe72097a",
   "metadata": {},
   "outputs": [],
   "source": [
    "# Create a test generator\n",
    "test_datagen = ImageDataGenerator(rescale=1./255)"
   ]
  },
  {
   "cell_type": "code",
   "execution_count": 63,
   "id": "bf0c8a8e",
   "metadata": {},
   "outputs": [
    {
     "name": "stdout",
     "output_type": "stream",
     "text": [
      "Found 57458 validated image filenames.\n"
     ]
    }
   ],
   "source": [
    "# Flow from DataFrame for test data\n",
    "test_generator = test_datagen.flow_from_dataframe(\n",
    "    dataframe=test_df,\n",
    "    directory='test',\n",
    "    x_col='filename',\n",
    "    y_col=None,  # No labels for test data\n",
    "    target_size=(32, 32),\n",
    "    batch_size=32,\n",
    "    class_mode=None,  # No labels for test data\n",
    "    shuffle=False  # Don't shuffle for test data\n",
    ")"
   ]
  },
  {
   "cell_type": "code",
   "execution_count": 64,
   "id": "8ab2671e",
   "metadata": {},
   "outputs": [],
   "source": [
    "# Make predictions\n",
    "predictions = model.predict(test_generator)\n",
    "predicted_labels = (predictions > 0.5).astype(int).flatten()"
   ]
  },
  {
   "cell_type": "code",
   "execution_count": 66,
   "id": "062e31ec",
   "metadata": {},
   "outputs": [
    {
     "data": {
      "text/plain": [
       "array([1, 1, 1, ..., 0, 0, 1])"
      ]
     },
     "execution_count": 66,
     "metadata": {},
     "output_type": "execute_result"
    }
   ],
   "source": [
    "predicted_labels"
   ]
  },
  {
   "cell_type": "code",
   "execution_count": 67,
   "id": "aa960969",
   "metadata": {},
   "outputs": [],
   "source": [
    "# Prepare submission file\n",
    "filenames = test_generator.filenames\n",
    "test_ids = [os.path.splitext(os.path.basename(f))[0] for f in filenames]\n",
    "submission_df = pd.DataFrame({'id': test_ids, 'label': predicted_labels})\n",
    "submission_df.to_csv('submission.csv', index=False)"
   ]
  },
  {
   "cell_type": "code",
   "execution_count": null,
   "id": "90eac4c2",
   "metadata": {},
   "outputs": [],
   "source": []
  }
 ],
 "metadata": {
  "kernelspec": {
   "display_name": "Python 3 (ipykernel)",
   "language": "python",
   "name": "python3"
  },
  "language_info": {
   "codemirror_mode": {
    "name": "ipython",
    "version": 3
   },
   "file_extension": ".py",
   "mimetype": "text/x-python",
   "name": "python",
   "nbconvert_exporter": "python",
   "pygments_lexer": "ipython3",
   "version": "3.7.4"
  }
 },
 "nbformat": 4,
 "nbformat_minor": 5
}
